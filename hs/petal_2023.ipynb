{
 "cells": [
  {
   "cell_type": "markdown",
   "metadata": {},
   "source": [
    "# 논문 구현\n",
    "[(Petal, 2023) The Santa Claus Rally in U.S. Stock Market Returns](https://openurl.ebsco.com/EPDB%3Agcd%3A15%3A17783471/detailv2?sid=ebsco%3Aplink%3Ascholar&id=ebsco%3Agcd%3A163860960&crl=c)"
   ]
  },
  {
   "cell_type": "code",
   "execution_count": 34,
   "metadata": {},
   "outputs": [],
   "source": [
    "import warnings\n",
    "warnings.filterwarnings('ignore')"
   ]
  },
  {
   "cell_type": "markdown",
   "metadata": {},
   "source": [
    "## 데이터셋"
   ]
  },
  {
   "cell_type": "markdown",
   "metadata": {},
   "source": [
    "### 데이터 수집\n",
    "- daily prices\n",
    "- dates : **1999.12.31** ~ 2021.12.31\n",
    "- symbols : S&P500, NASDAQ\n",
    "- from : yahoo finance website"
   ]
  },
  {
   "cell_type": "code",
   "execution_count": 35,
   "metadata": {},
   "outputs": [],
   "source": [
    "date_start = '1999-12-31'\n",
    "date_end = '2021-12-31'\n",
    "\n",
    "symbols = {\n",
    "    'S&P500' : '^GSPC', \n",
    "    'NASDAQ' : '^IXIC'\n",
    "}"
   ]
  },
  {
   "cell_type": "code",
   "execution_count": 36,
   "metadata": {},
   "outputs": [],
   "source": [
    "# # 야후파이낸스 설치\n",
    "# !pip install yfinance\n",
    "\n",
    "import yfinance as yf"
   ]
  },
  {
   "cell_type": "code",
   "execution_count": 37,
   "metadata": {},
   "outputs": [
    {
     "name": "stdout",
     "output_type": "stream",
     "text": [
      "[*********************100%%**********************]  1 of 1 completed\n",
      "[*********************100%%**********************]  1 of 1 completed\n"
     ]
    }
   ],
   "source": [
    "df_prices = {\n",
    "    name : yf.download(symbol, start=date_start, end=date_end)\n",
    "    for name, symbol in symbols.items()\n",
    "}"
   ]
  },
  {
   "cell_type": "markdown",
   "metadata": {},
   "source": [
    "### 데이터 전처리\n",
    "- daily stock returns 계산\n",
    "  - 5536 observations\n",
    "  - dates : **2000.01.31** ~ 2021.12.31\n",
    "  - stnadard formula\n",
    "    $$ dailyStockReturns(\\%) = \\frac{(closing Stock Price_t - closing Stock Price_{t-1})}{closing Stock Price_{t-1}} \\times 100$$"
   ]
  },
  {
   "cell_type": "code",
   "execution_count": 38,
   "metadata": {},
   "outputs": [],
   "source": [
    "col_price = 'Close'\n",
    "col_rtn = 'Daily Returns'\n",
    "for symbol in df_prices.keys():\n",
    "    # 불필요한 컬럼 제거\n",
    "    df_prices[symbol] = df_prices[symbol][[col_price]]\n",
    "\n",
    "    df_prices[symbol][col_rtn] = df_prices[symbol][col_price].pct_change().fillna(0) * 100\n",
    "\n",
    "    "
   ]
  },
  {
   "cell_type": "markdown",
   "metadata": {},
   "source": [
    "### 데이터 정보(요약통계량)\n",
    "\n",
    "#### Table 1\n",
    "> SUMMARY STATISTICS OF DAILY PERCENTAGE RETURNS OF THE TWO U.S. STOCK\n",
    "INDICES (JANUARY 1, 2000 TO DECEMBER 31, 2021)"
   ]
  },
  {
   "cell_type": "code",
   "execution_count": 39,
   "metadata": {},
   "outputs": [],
   "source": [
    "import pandas as pd"
   ]
  },
  {
   "cell_type": "code",
   "execution_count": 40,
   "metadata": {},
   "outputs": [],
   "source": [
    "index_names = ['Mean', 'Standard Deviation', 'Minimum', 'Maximum', 'Range', 'Observations']\n",
    "table1 = pd.DataFrame(index = index_names)\n",
    "\n",
    "for symbol in df_prices.keys():\n",
    "    rtns = df_prices[symbol][col_rtn]\n",
    "    stats = [\n",
    "        rtns.mean(),\n",
    "        rtns.std(),\n",
    "        min(rtns),\n",
    "        max(rtns),\n",
    "        max(rtns) - min(rtns),\n",
    "        len(rtns)\n",
    "    ]\n",
    "    table1[symbol] = stats"
   ]
  },
  {
   "cell_type": "code",
   "execution_count": 41,
   "metadata": {},
   "outputs": [
    {
     "data": {
      "text/html": [
       "<div>\n",
       "<style scoped>\n",
       "    .dataframe tbody tr th:only-of-type {\n",
       "        vertical-align: middle;\n",
       "    }\n",
       "\n",
       "    .dataframe tbody tr th {\n",
       "        vertical-align: top;\n",
       "    }\n",
       "\n",
       "    .dataframe thead th {\n",
       "        text-align: right;\n",
       "    }\n",
       "</style>\n",
       "<table border=\"1\" class=\"dataframe\">\n",
       "  <thead>\n",
       "    <tr style=\"text-align: right;\">\n",
       "      <th></th>\n",
       "      <th>S&amp;P500</th>\n",
       "      <th>NASDAQ</th>\n",
       "    </tr>\n",
       "  </thead>\n",
       "  <tbody>\n",
       "    <tr>\n",
       "      <th>Mean</th>\n",
       "      <td>0.0290</td>\n",
       "      <td>0.0370</td>\n",
       "    </tr>\n",
       "    <tr>\n",
       "      <th>Standard Deviation</th>\n",
       "      <td>1.2369</td>\n",
       "      <td>1.5826</td>\n",
       "    </tr>\n",
       "    <tr>\n",
       "      <th>Minimum</th>\n",
       "      <td>-11.9841</td>\n",
       "      <td>-12.3213</td>\n",
       "    </tr>\n",
       "    <tr>\n",
       "      <th>Maximum</th>\n",
       "      <td>11.5800</td>\n",
       "      <td>14.1732</td>\n",
       "    </tr>\n",
       "    <tr>\n",
       "      <th>Range</th>\n",
       "      <td>23.5641</td>\n",
       "      <td>26.4945</td>\n",
       "    </tr>\n",
       "    <tr>\n",
       "      <th>Observations</th>\n",
       "      <td>5536.0000</td>\n",
       "      <td>5536.0000</td>\n",
       "    </tr>\n",
       "  </tbody>\n",
       "</table>\n",
       "</div>"
      ],
      "text/plain": [
       "                      S&P500    NASDAQ\n",
       "Mean                  0.0290    0.0370\n",
       "Standard Deviation    1.2369    1.5826\n",
       "Minimum             -11.9841  -12.3213\n",
       "Maximum              11.5800   14.1732\n",
       "Range                23.5641   26.4945\n",
       "Observations       5536.0000 5536.0000"
      ]
     },
     "execution_count": 41,
     "metadata": {},
     "output_type": "execute_result"
    }
   ],
   "source": [
    "# 소수점 4자리까지 출력\n",
    "pd.options.display.float_format = '{:.4f}'.format\n",
    "\n",
    "table1"
   ]
  },
  {
   "cell_type": "code",
   "execution_count": null,
   "metadata": {},
   "outputs": [],
   "source": []
  },
  {
   "cell_type": "markdown",
   "metadata": {},
   "source": [
    "## EMPIRICAL RESULTS"
   ]
  },
  {
   "cell_type": "markdown",
   "metadata": {},
   "source": [
    "### 산타랠리 기간과 그 외 기간의 일 평균 수익률 비교\n",
    "\n",
    "- Santa Claus Rally Days\n",
    "  - the last five trading days in December and the first two trading days in January of the next year\n",
    "  - 154 days (= 7 days X 22 years)\n",
    "- Remaning Days\n",
    "  - 5534 days (= 5536 days - 154 days )"
   ]
  },
  {
   "cell_type": "code",
   "execution_count": 42,
   "metadata": {},
   "outputs": [],
   "source": [
    "col_period = 'period'\n",
    "for symbol in df_prices.keys():\n",
    "    df_prices[symbol][col_period] = 'Remaining Days'\n",
    "    for year in range(2000, 2022):\n",
    "        # 12월 마지막 5일\n",
    "        df_prices[symbol].loc[str(year)+'-12'].iloc[-5:, -1] = 'Santa Claus Rally Days'\n",
    "        # 1월 첫 2일\n",
    "        df_prices[symbol].loc[str(year)+'-01'].iloc[:2, -1] = 'Santa Claus Rally Days'"
   ]
  },
  {
   "cell_type": "code",
   "execution_count": 43,
   "metadata": {},
   "outputs": [
    {
     "data": {
      "text/plain": [
       "period\n",
       "Remaining Days            5382\n",
       "Santa Claus Rally Days     154\n",
       "Name: count, dtype: int64"
      ]
     },
     "execution_count": 43,
     "metadata": {},
     "output_type": "execute_result"
    }
   ],
   "source": [
    "df_prices['S&P500']['period'].value_counts()"
   ]
  },
  {
   "cell_type": "code",
   "execution_count": 44,
   "metadata": {},
   "outputs": [
    {
     "data": {
      "text/plain": [
       "period\n",
       "Remaining Days            5382\n",
       "Santa Claus Rally Days     154\n",
       "Name: count, dtype: int64"
      ]
     },
     "execution_count": 44,
     "metadata": {},
     "output_type": "execute_result"
    }
   ],
   "source": [
    "df_prices['NASDAQ']['period'].value_counts()"
   ]
  },
  {
   "cell_type": "markdown",
   "metadata": {},
   "source": [
    "#### Table 2 : T-Test & Mann-Whitney U Test\n",
    "> DAILY MEAN PERCENTAGE RETURNS OF SANTA CLAUS RALLY DAYS AND REMAINING DAYS (JANUARY 1, 2000 TO DECEMBER 31, 2021)"
   ]
  },
  {
   "cell_type": "code",
   "execution_count": null,
   "metadata": {},
   "outputs": [],
   "source": [
    "from scipy.stats import ttest_ind, mannwhitneyu"
   ]
  },
  {
   "cell_type": "code",
   "execution_count": null,
   "metadata": {},
   "outputs": [],
   "source": [
    "table2 = pd.DataFrame(\n",
    "    columns = df_prices.keys(),\n",
    "    index = [\n",
    "        ('Santa Claus Rally Days', 'Mean'),\n",
    "        ('Santa Claus Rally Days', 'Observations'),\n",
    "        ('Remaining Days', 'Mean'),\n",
    "        ('Remaining Days', 'Observations'),\n",
    "        '',\n",
    "        'Significance Test Statistics',\n",
    "        'T-test',\n",
    "        ('T-test', 'T-test Value'),\n",
    "        ('T-test', 'Significance'),\n",
    "        ('T-test', 'Degree of Freedom'),\n",
    "        '',\n",
    "        'Mann-Whitney U Test',\n",
    "        ('Mann-Whitney', 'Z'),\n",
    "        ('Mann-Whitney', 'Significance')\n",
    "    ]\n",
    ").fillna('')"
   ]
  },
  {
   "cell_type": "code",
   "execution_count": null,
   "metadata": {},
   "outputs": [],
   "source": [
    "for symbol in df_prices.keys():\n",
    "    df = df_prices[symbol]\n",
    "    rtns_santa = df[df[col_period]=='Santa Claus Rally Days'][col_rtn]\n",
    "    rtns_remaining = df[df[col_period]!='Santa Claus Rally Days'][col_rtn]\n",
    "\n",
    "    # Summary Statistics\n",
    "    table2.iloc[0][symbol] = rtns_santa.mean()\n",
    "    table2.iloc[1][symbol] = len(rtns_santa)\n",
    "    table2.iloc[2][symbol] = rtns_remaining.mean()\n",
    "    table2.iloc[3][symbol] = len(rtns_remaining)\n",
    "\n",
    "    # T-Test\n",
    "    res_ttest = ttest_ind(\n",
    "        rtns_santa, rtns_remaining, \n",
    "        equal_var=True, alternative='greater'\n",
    "    )\n",
    "    table2.iloc[7][symbol] = res_ttest.statistic\n",
    "    table2.iloc[8][symbol] = res_ttest.pvalue\n",
    "    table2.iloc[9][symbol] = int(res_ttest.df)\n",
    "\n",
    "    # Mann-Whitney U Test\n",
    "    res_utest = mannwhitneyu(\n",
    "        rtns_santa, rtns_remaining,\n",
    "        alternative='greater'\n",
    "    )\n",
    "    table2.iloc[12][symbol] = res_utest.statistic\n",
    "    table2.iloc[13][symbol] = res_utest.pvalue"
   ]
  },
  {
   "cell_type": "code",
   "execution_count": null,
   "metadata": {},
   "outputs": [],
   "source": [
    "# 소수점 4자리까지 출력\n",
    "pd.options.display.float_format = '{:.4f}'.format\n",
    "\n",
    "table2"
   ]
  },
  {
   "cell_type": "markdown",
   "metadata": {},
   "source": [
    "#### Table 3 : OLS Regression\n",
    "> OLS REGRESSIONS OF SANTA CLAUS RALLY DAYS AND REMAINING DAYS (JANUARY 1, 2000 TO DECEMBER 31, 2021)\n",
    "\n",
    "$$RETURN = \\beta_0 + \\beta_1 SantaClausRally + \\varepsilon_t$$\n",
    "\n",
    "- $RETURN$ : daily percentage returns of each of the two U.S. stock indices\n",
    "- $SantaClausRally$ : a dummy variable\n",
    "  - if Santa Claus Rally days, $SantaClausRally = 1$\n",
    "  - else (Remaining days), $SantaClausRally = 0$\n",
    "\n",
    "- estimated coefficient\n",
    "  - $\\beta_1$ : difference between the mean daily percentage returns of Santa Claus Rally days over the mean daily percentage returns of the remaining days of the year\n",
    "    - ($\\beta_1$ > 0) and (statistically significant) → \"Santa Claus Rally is prevalent in U.S. stock returns\"\n",
    "  - $\\beta_0$ : difference between the mean daily percentage returns of Santa Claus Rally days over the mean daily percentage returns of the remaining days of the year"
   ]
  },
  {
   "cell_type": "code",
   "execution_count": null,
   "metadata": {},
   "outputs": [],
   "source": [
    "import statsmodels.api as sm\n",
    "import numpy as np"
   ]
  },
  {
   "cell_type": "code",
   "execution_count": null,
   "metadata": {},
   "outputs": [],
   "source": [
    "table3 = pd.DataFrame(\n",
    "    index = [\n",
    "        'S&P500',\n",
    "        'S&P500(T-statistics)',\n",
    "        'S&P500(p-values)',\n",
    "        'NASDAQ',\n",
    "        'NASDAQ(T-statistics)',\n",
    "        'NASDAQ(p-values)'\n",
    "    ],\n",
    "    columns = [\n",
    "        'Constant', 'Santa Rally Days', 'F-Value', 'Significance'\n",
    "    ]\n",
    ").fillna('')"
   ]
  },
  {
   "cell_type": "code",
   "execution_count": null,
   "metadata": {},
   "outputs": [],
   "source": [
    "for symbol in df_prices.keys():\n",
    "    df = df_prices[symbol]\n",
    "\n",
    "    y = df[col_rtn]\n",
    "    x = np.where(df[col_period]=='Santa Claus Rally Days', 1, 0)\n",
    "    x = sm.add_constant(x)\n",
    "\n",
    "    model = sm.OLS(y, x)\n",
    "    results = model.fit()\n",
    "\n",
    "    table3.loc[symbol] = results.params.values.tolist() + [results.fvalue, results.f_pvalue]\n",
    "    table3.loc[symbol+'(T-statistics)'].iloc[:2] = results.tvalues.values.tolist()\n",
    "    table3.loc[symbol+'(p-values)'].iloc[:2] = results.pvalues.values.tolist()"
   ]
  },
  {
   "cell_type": "code",
   "execution_count": null,
   "metadata": {},
   "outputs": [],
   "source": [
    "# 소수점 3자리까지 출력\n",
    "pd.options.display.float_format = '{:.3f}'.format\n",
    "\n",
    "table3"
   ]
  },
  {
   "cell_type": "code",
   "execution_count": null,
   "metadata": {},
   "outputs": [],
   "source": []
  },
  {
   "cell_type": "markdown",
   "metadata": {},
   "source": [
    "### 기간별 산타랠리 기간과 그 외 기간의 일 평균 수익률 비교\n",
    "\n",
    "- Panel A : 2000.01.01 ~ 2009.12.31\n",
    "  - 2008~2009 : U.S. stock market had negative returns\n",
    "- Panel B : 2010.01.01 ~ 2021.12.31"
   ]
  },
  {
   "cell_type": "code",
   "execution_count": null,
   "metadata": {},
   "outputs": [],
   "source": [
    "col_period_sub = 'panel'\n",
    "for symbol in df_prices.keys():\n",
    "    df_prices[symbol][col_period_sub] = 'B'\n",
    "    df_prices[symbol].loc['2000':'2009', col_period_sub] = 'A'\n",
    "    # df_prices[symbol].loc['2010':'2021', col_period_sub] = 'B'"
   ]
  },
  {
   "cell_type": "markdown",
   "metadata": {},
   "source": [
    "#### Table 4\n",
    "> DAILY MEAN PERCENTAGE RETURNS OF SANTA CLAUS RALLY DAYS AND REMAINING DAYS BY TWO CALENDAR SUB-PERIODS"
   ]
  },
  {
   "cell_type": "code",
   "execution_count": null,
   "metadata": {},
   "outputs": [],
   "source": [
    "table4 = pd.DataFrame(\n",
    "    columns = df_prices.keys(),\n",
    "    index = [\n",
    "        'Panel A',\n",
    "        'Santa Claus Rally Days (Mean)',\n",
    "        'Santa Claus Rally Days (Observations)',\n",
    "        'Remaining Days (Mean)',\n",
    "        'Remaining Days (Observations)',\n",
    "        'Total (Mean)',\n",
    "        'Total (Observations)',\n",
    "\n",
    "        'Panel B',\n",
    "        'Santa Claus Rally Days (Mean)',\n",
    "        'Santa Claus Rally Days (Observations)',\n",
    "        'Remaining Days (Mean)',\n",
    "        'Remaining Days (Observations)',\n",
    "        'Total (Mean)',\n",
    "        'Total (Observations)',\n",
    "    ]\n",
    ")"
   ]
  },
  {
   "cell_type": "code",
   "execution_count": null,
   "metadata": {},
   "outputs": [],
   "source": [
    "for symbol in df_prices.keys():\n",
    "    df = df_prices[symbol]\n",
    "    \n",
    "    df_A = df[df[col_period_sub]=='A']\n",
    "    rtns_A_total = df_A[col_rtn]\n",
    "    rtns_A_santa = df_A[df_A[col_period]=='Santa Claus Rally Days'][col_rtn]\n",
    "    rtns_A_remaining = df_A[df_A[col_period]!='Santa Claus Rally Days'][col_rtn]\n",
    "\n",
    "    df_B = df[df[col_period_sub]=='B']\n",
    "    rtns_B_total = df_B[col_rtn]\n",
    "    rtns_B_santa = df_B[df_B[col_period]=='Santa Claus Rally Days'][col_rtn]\n",
    "    rtns_B_remaining = df_B[df_B[col_period]!='Santa Claus Rally Days'][col_rtn]\n",
    "\n",
    "    table4[symbol] = [\n",
    "        '', rtns_A_santa.mean(), len(rtns_A_santa),\n",
    "        rtns_A_remaining.mean(), len(rtns_A_remaining), rtns_A_total.mean(), len(rtns_A_total),\n",
    "        '', rtns_B_santa.mean(), len(rtns_B_santa),\n",
    "        rtns_B_remaining.mean(), len(rtns_B_remaining), rtns_B_total.mean(), len(rtns_B_total)\n",
    "    ]"
   ]
  },
  {
   "cell_type": "code",
   "execution_count": null,
   "metadata": {},
   "outputs": [],
   "source": [
    "# 소수점 4자리까지 출력\n",
    "pd.options.display.float_format = '{:.4f}'.format\n",
    "\n",
    "table4"
   ]
  },
  {
   "cell_type": "markdown",
   "metadata": {},
   "source": [
    "#### Table 5 : OLS Regression\n",
    "\n",
    "> OLS REGRESSIONS OF SANTA CLAUS RALLY DAYS AND REMAINING DAYS BY TWO SUB-PERIODS"
   ]
  },
  {
   "cell_type": "code",
   "execution_count": null,
   "metadata": {},
   "outputs": [],
   "source": [
    "table5 = pd.DataFrame(\n",
    "    columns = [\n",
    "        'Constant', 'Santa Rally Days', 'F-Value', 'Significance'\n",
    "    ]\n",
    ")"
   ]
  },
  {
   "cell_type": "code",
   "execution_count": null,
   "metadata": {},
   "outputs": [],
   "source": [
    "for symbol in df_prices.keys():\n",
    "    df = df_prices[symbol]\n",
    "\n",
    "    # Panel A: January 1, 2000, to December 31, 2009\n",
    "    df_A = df[df[col_period_sub]=='A']\n",
    "\n",
    "    y = df_A[col_rtn]\n",
    "    x = np.where(df_A[col_period]=='Santa Claus Rally Days', 1, 0)\n",
    "    x = sm.add_constant(x)\n",
    "\n",
    "    model = sm.OLS(y, x)\n",
    "    results = model.fit()\n",
    "\n",
    "    res_A = pd.DataFrame(\n",
    "        columns = [\n",
    "        'Constant', 'Santa Rally Days', 'F-Value', 'Significance'\n",
    "        ],\n",
    "        index = [\n",
    "            'Panel A', symbol, symbol+'(T-statistics)', symbol+'(p-values)'\n",
    "        ]\n",
    "    ).fillna('')\n",
    "    res_A.loc[symbol] = results.params.values.tolist() + [results.fvalue, results.f_pvalue]\n",
    "    res_A.loc[symbol+'(T-statistics)'].iloc[:2] = results.tvalues.values.tolist()\n",
    "    res_A.loc[symbol+'(p-values)'].iloc[:2] = results.pvalues.values.tolist()\n",
    "\n",
    "    # Panel B: January 1, 2010, to December 31, 2021\n",
    "    df_B = df[df[col_period_sub]=='B']\n",
    "\n",
    "    y = df_B[col_rtn]\n",
    "    x = np.where(df_B[col_period]=='Santa Claus Rally Days', 1, 0)\n",
    "    x = sm.add_constant(x)\n",
    "\n",
    "    model = sm.OLS(y, x)\n",
    "    results = model.fit()\n",
    "\n",
    "    res_B = pd.DataFrame(\n",
    "        columns = [\n",
    "        'Constant', 'Santa Rally Days', 'F-Value', 'Significance'\n",
    "        ],\n",
    "        index = [\n",
    "            'Panel B', symbol, symbol+'(T-statistics)', symbol+'(p-values)'\n",
    "        ]\n",
    "    ).fillna('')\n",
    "    res_B.loc[symbol] = results.params.values.tolist() + [results.fvalue, results.f_pvalue]\n",
    "    res_B.loc[symbol+'(T-statistics)'].iloc[:2] = results.tvalues.values.tolist()\n",
    "    res_B.loc[symbol+'(p-values)'].iloc[:2] = results.pvalues.values.tolist()\n",
    "\n",
    "    # concatnate\n",
    "    table5 = pd.concat([table5, res_A, res_B], axis=0)"
   ]
  },
  {
   "cell_type": "code",
   "execution_count": null,
   "metadata": {},
   "outputs": [],
   "source": [
    "# 소수점 3자리까지 출력\n",
    "pd.options.display.float_format = '{:.3f}'.format\n",
    "\n",
    "table5 = table5.iloc[[0, 1, 2, 3, 9, 10, 11, 4, 5, 6, 7, 13, 14, 15]]\n",
    "table5"
   ]
  },
  {
   "cell_type": "code",
   "execution_count": null,
   "metadata": {},
   "outputs": [],
   "source": []
  },
  {
   "cell_type": "code",
   "execution_count": null,
   "metadata": {},
   "outputs": [],
   "source": []
  },
  {
   "cell_type": "markdown",
   "metadata": {},
   "source": [
    "### 경기별 산타랠리 기간과 그 외 기간의 일 평균 수익률 비교\n",
    "\n",
    "- Panel A : Expansion Periods\n",
    "  1. January 2000 ~ March 2001\n",
    "  2. December 2001 ~ December 2007\n",
    "  3. July 2009 ~ February 2020\n",
    "  4. May 2020 ~ December 2021\n",
    "- Panel B : Recession Periods\n",
    "  1. Apirl 2001 ~ November 2001\n",
    "  2. January 2008 ~ June 2009\n",
    "  3. March 2020 ~ April 2020"
   ]
  },
  {
   "cell_type": "code",
   "execution_count": null,
   "metadata": {},
   "outputs": [],
   "source": [
    "col_period_cycle = 'economic cycle'\n",
    "for symbol in df_prices.keys():\n",
    "    df_prices[symbol][col_period_cycle] = 'Expansion Periods'\n",
    "\n",
    "    # df_prices[symbol].loc['2000-01':'2001-03', col_period_cycle] = 'Expansion Periods'\n",
    "    df_prices[symbol].loc['2001-04':'2001-11', col_period_cycle] = 'Recession Periods'\n",
    "\n",
    "    # df_prices[symbol].loc['2001-12':'2007-12', col_period_cycle] = 'Expansion Periods'\n",
    "    df_prices[symbol].loc['2008-01':'2009-06', col_period_cycle] = 'Recession Periods'\n",
    "\n",
    "    # df_prices[symbol].loc['2009-07':'2020-02', col_period_cycle] = 'Expansion Periods'\n",
    "    df_prices[symbol].loc['2020-03':'2020-04', col_period_cycle] = 'Recession Periods'\n",
    "\n",
    "    # df_prices[symbol].loc['2020-05':'2021-12', col_period_cycle] = 'Expansion Periods'"
   ]
  },
  {
   "cell_type": "markdown",
   "metadata": {},
   "source": [
    "#### Table 6\n",
    "> DAILY MEAN PERCENTAGE RETURNS OF SANTA CLAUS RALLY DAYS AND REMAINING DAYS BY ECONOMIC CYCLES"
   ]
  },
  {
   "cell_type": "code",
   "execution_count": null,
   "metadata": {},
   "outputs": [],
   "source": [
    "table6 = pd.DataFrame(\n",
    "    columns = df_prices.keys(),\n",
    "    index = [\n",
    "        'Expansion Periods',\n",
    "        'Santa Claus Rally Days (Mean)',\n",
    "        'Santa Claus Rally Days (Observations)',\n",
    "        'Remaining Days (Mean)',\n",
    "        'Remaining Days (Observations)',\n",
    "        'Total (Mean)',\n",
    "        'Total (Observations)',\n",
    "\n",
    "        'Recession Periods',\n",
    "        'Santa Claus Rally Days (Mean)',\n",
    "        'Santa Claus Rally Days (Observations)',\n",
    "        'Remaining Days (Mean)',\n",
    "        'Remaining Days (Observations)',\n",
    "        'Total (Mean)',\n",
    "        'Total (Observations)',\n",
    "    ]\n",
    ")"
   ]
  },
  {
   "cell_type": "code",
   "execution_count": null,
   "metadata": {},
   "outputs": [],
   "source": [
    "for symbol in df_prices.keys():\n",
    "    df = df_prices[symbol]\n",
    "    \n",
    "    df_A = df[df[col_period_cycle]=='Expansion Periods']\n",
    "    rtns_A_total = df_A[col_rtn]\n",
    "    rtns_A_santa = df_A[df_A[col_period]=='Santa Claus Rally Days'][col_rtn]\n",
    "    rtns_A_remaining = df_A[df_A[col_period]!='Santa Claus Rally Days'][col_rtn]\n",
    "\n",
    "    df_B = df[df[col_period_cycle]=='Recession Periods']\n",
    "    rtns_B_total = df_B[col_rtn]\n",
    "    rtns_B_santa = df_B[df_B[col_period]=='Santa Claus Rally Days'][col_rtn]\n",
    "    rtns_B_remaining = df_B[df_B[col_period]!='Santa Claus Rally Days'][col_rtn]\n",
    "\n",
    "    table6[symbol] = [\n",
    "        '', rtns_A_santa.mean(), len(rtns_A_santa),\n",
    "        rtns_A_remaining.mean(), len(rtns_A_remaining), rtns_A_total.mean(), len(rtns_A_total),\n",
    "        '', rtns_B_santa.mean(), len(rtns_B_santa),\n",
    "        rtns_B_remaining.mean(), len(rtns_B_remaining), rtns_B_total.mean(), len(rtns_B_total)\n",
    "    ]"
   ]
  },
  {
   "cell_type": "code",
   "execution_count": null,
   "metadata": {},
   "outputs": [],
   "source": [
    "# 소수점 4자리까지 출력\n",
    "pd.options.display.float_format = '{:.4f}'.format\n",
    "\n",
    "table6"
   ]
  },
  {
   "cell_type": "markdown",
   "metadata": {},
   "source": [
    "#### Table 7 : OLS Regression\n",
    "\n",
    "> OLS REGRESSIONS OF SANTA CLAUS RALLY DAYS AND REMAINING DAYS BY ECONOMIC CYCLES"
   ]
  },
  {
   "cell_type": "code",
   "execution_count": null,
   "metadata": {},
   "outputs": [],
   "source": [
    "table7 = pd.DataFrame(\n",
    "    columns = [\n",
    "        'Constant', 'Santa Rally Days', 'F-Value', 'Significance'\n",
    "    ]\n",
    ")"
   ]
  },
  {
   "cell_type": "code",
   "execution_count": null,
   "metadata": {},
   "outputs": [],
   "source": [
    "for symbol in df_prices.keys():\n",
    "    df = df_prices[symbol]\n",
    "\n",
    "    # Panel A: Expansion Periods\n",
    "    df_A = df[df[col_period_cycle]=='Expansion Periods']\n",
    "\n",
    "    y = df_A[col_rtn]\n",
    "    x = np.where(df_A[col_period]=='Santa Claus Rally Days', 1, 0)\n",
    "    x = sm.add_constant(x)\n",
    "\n",
    "    model = sm.OLS(y, x)\n",
    "    results = model.fit()\n",
    "\n",
    "    res_A = pd.DataFrame(\n",
    "        columns = [\n",
    "        'Constant', 'Santa Rally Days', 'F-Value', 'Significance'\n",
    "        ],\n",
    "        index = [\n",
    "            'Expansion Periods', symbol, symbol+'(T-statistics)', symbol+'(p-values)'\n",
    "        ]\n",
    "    ).fillna('')\n",
    "    res_A.loc[symbol] = results.params.values.tolist() + [results.fvalue, results.f_pvalue]\n",
    "    res_A.loc[symbol+'(T-statistics)'].iloc[:2] = results.tvalues.values.tolist()\n",
    "    res_A.loc[symbol+'(p-values)'].iloc[:2] = results.pvalues.values.tolist()\n",
    "\n",
    "    # Panel B: Recession Periods\n",
    "    df_B = df[df[col_period_cycle]=='Recession Periods']\n",
    "\n",
    "    y = df_B[col_rtn]\n",
    "    x = np.where(df_B[col_period]=='Santa Claus Rally Days', 1, 0)\n",
    "    x = sm.add_constant(x)\n",
    "\n",
    "    model = sm.OLS(y, x)\n",
    "    results = model.fit()\n",
    "\n",
    "    res_B = pd.DataFrame(\n",
    "        columns = [\n",
    "        'Constant', 'Santa Rally Days', 'F-Value', 'Significance'\n",
    "        ],\n",
    "        index = [\n",
    "            'Recession Periods', symbol, symbol+'(T-statistics)', symbol+'(p-values)'\n",
    "        ]\n",
    "    ).fillna('')\n",
    "    res_B.loc[symbol] = results.params.values.tolist() + [results.fvalue, results.f_pvalue]\n",
    "    res_B.loc[symbol+'(T-statistics)'].iloc[:2] = results.tvalues.values.tolist()\n",
    "    res_B.loc[symbol+'(p-values)'].iloc[:2] = results.pvalues.values.tolist()\n",
    "\n",
    "    # concatnate\n",
    "    table7 = pd.concat([table7, res_A, res_B], axis=0)"
   ]
  },
  {
   "cell_type": "code",
   "execution_count": null,
   "metadata": {},
   "outputs": [],
   "source": [
    "# 소수점 3자리까지 출력\n",
    "pd.options.display.float_format = '{:.3f}'.format\n",
    "\n",
    "table7 = table7.iloc[[0, 1, 2, 3, 9, 10, 11, 4, 5, 6, 7, 13, 14, 15]]\n",
    "table7"
   ]
  }
 ],
 "metadata": {
  "kernelspec": {
   "display_name": "Python 3",
   "language": "python",
   "name": "python3"
  },
  "language_info": {
   "codemirror_mode": {
    "name": "ipython",
    "version": 3
   },
   "file_extension": ".py",
   "mimetype": "text/x-python",
   "name": "python",
   "nbconvert_exporter": "python",
   "pygments_lexer": "ipython3",
   "version": "3.12.1"
  }
 },
 "nbformat": 4,
 "nbformat_minor": 2
}
