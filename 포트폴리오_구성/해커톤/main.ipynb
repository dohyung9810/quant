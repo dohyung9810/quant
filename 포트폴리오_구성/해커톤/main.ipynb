{
 "cells": [
  {
   "cell_type": "markdown",
   "id": "4097b35e",
   "metadata": {},
   "source": [
    "## 주제 : 산타랠리에 맞는 포트폴리오 수립\n",
    "### 1. 국면 설정하기\n",
    "+ 코스피와 CD금리 차트로 표시 \n",
    "### 2. 통계 검증 방식\n",
    "+ 각 연도마다 일일수익률을 기준으로 a, b, c 집단에 대한 통계 검증을 진행\n",
    "### 3. 데이터 전처리\n",
    "+ 시총과 재무 데이터 합치기\n",
    "+ PEG 구하기\n",
    "+ NCAV 구하기\n",
    "### 4. 각 연도마다 종목 선정 및 포트폴리오 수립\n",
    "+ 연도마다 PEG값을 작은 순으로 정렬하고 추가적인 요소를 고려하여 성장주 종목 선정(최대 20)\n",
    "+ 연도마다 NACV값을 큰 순으로 정렬하고 가치주 종목 선정(최대 20)\n",
    "+ 연도마다 투자할 종목의 비중을 포트폴리오 전략을 통해 배분\n",
    "### 5. 국면에 따라 포트폴리오 전략 검증 및 수익률 비교\n",
    "+ 최종적으로 만든 포트폴리오의 일일 수익률을 계산하기\n",
    "+ 만든 포트폴리오로 통계 검증을 진행\n",
    "### 6. 결과\n",
    "+ 각 국면마다 어떤 것들이 유의한지와 평균 수익률을 비교"
   ]
  },
  {
   "cell_type": "markdown",
   "id": "54804d45",
   "metadata": {},
   "source": [
    "### 패키지 불러오기"
   ]
  },
  {
   "cell_type": "code",
   "execution_count": 1,
   "id": "6a422d6d",
   "metadata": {},
   "outputs": [],
   "source": [
    "import pandas as pd\n",
    "import numpy as np\n",
    "import seaborn as sns\n",
    "import matplotlib.pyplot as plt\n",
    "import yfinance as yf\n",
    "import pandas_datareader as pdr\n",
    "\n",
    "from datetime import datetime"
   ]
  },
  {
   "cell_type": "code",
   "execution_count": 2,
   "id": "010cec9e",
   "metadata": {},
   "outputs": [],
   "source": [
    "import platform\n",
    "if platform.system() == 'Darwin': # MAC\n",
    "    plt.rc('font', family='AppleGothic')\n",
    "else: # Windows\n",
    "    plt.rc('font', family='Malgun Gothic')"
   ]
  },
  {
   "cell_type": "markdown",
   "id": "5a321aff",
   "metadata": {},
   "source": [
    "### 1. 국면 정하기"
   ]
  },
  {
   "cell_type": "markdown",
   "id": "88462d01",
   "metadata": {},
   "source": [
    "+ kospi 1년 수익률과 cd 금리 1년 수익률을 비교"
   ]
  },
  {
   "cell_type": "code",
   "execution_count": 18,
   "id": "e6f77597",
   "metadata": {},
   "outputs": [],
   "source": [
    "# 데이터프레임 불러오기\n",
    "interest_df = pd.read_excel('./datasets/연시장금리.xlsx')\n",
    "interest_df.columns = ['Unnamed: 0', 'date', '국고채 3년', '국고채 5년', '국고채 10년',\n",
    "                       '회사채 3년', 'CD 91물', '콜금리', '기준금리']\n",
    "\n",
    "# 마지막 두 행 제거\n",
    "interest = interest_df.iloc[:-2]\n",
    "\n",
    "# 'date'와 '국고채 3년' 열 선택\n",
    "interest = interest[['date', '국고채 3년']]\n",
    "\n",
    "# 'date' 열의 데이터 타입을 문자열로 변환\n",
    "interest['date'] = interest['date'].astype(str)\n",
    "\n",
    "# 'YYYYMM' 형식의 날짜를 'YYYYMM' 형식의 날짜 객체로 변환\n",
    "interest['date'] = interest['date'].apply(lambda x: datetime.strptime(x, '%Y'))\n",
    "\n",
    "interest = interest.set_index('date').resample('Y').last()"
   ]
  },
  {
   "cell_type": "code",
   "execution_count": 4,
   "id": "58c4d0ae",
   "metadata": {
    "scrolled": true
   },
   "outputs": [],
   "source": [
    "# 데이터프레임 불러오기\n",
    "interest_df = pd.read_excel('./datasets/시장금리.xlsx')\n",
    "interest_df.columns = ['Unnamed: 0', 'date', '국고채 3년', '국고채 5년', '국고채 10년',\n",
    "                       '회사채 3년', 'CD 91물', '콜금리', '기준금리']\n",
    "\n",
    "# 마지막 두 행 제거\n",
    "interest = interest_df.iloc[:-2]\n",
    "\n",
    "# 'date'와 '국고채 3년' 열 선택\n",
    "interest = interest[['date', '국고채 3년']]\n",
    "\n",
    "# 'date' 열의 데이터 타입을 문자열로 변환\n",
    "interest['date'] = interest['date'].astype(str)\n",
    "\n",
    "# 'YYYYMM' 형식의 날짜를 'YYYYMM' 형식의 날짜 객체로 변환\n",
    "interest['date'] = interest['date'].apply(lambda x: datetime.strptime(x[:-1], '%Y%m'))\n",
    "\n",
    "interest = interest.set_index('date')"
   ]
  },
  {
   "cell_type": "code",
   "execution_count": 5,
   "id": "98fb186f",
   "metadata": {},
   "outputs": [
    {
     "data": {
      "text/html": [
       "<div>\n",
       "<style scoped>\n",
       "    .dataframe tbody tr th:only-of-type {\n",
       "        vertical-align: middle;\n",
       "    }\n",
       "\n",
       "    .dataframe tbody tr th {\n",
       "        vertical-align: top;\n",
       "    }\n",
       "\n",
       "    .dataframe thead th {\n",
       "        text-align: right;\n",
       "    }\n",
       "</style>\n",
       "<table border=\"1\" class=\"dataframe\">\n",
       "  <thead>\n",
       "    <tr style=\"text-align: right;\">\n",
       "      <th></th>\n",
       "      <th>국고채 3년</th>\n",
       "    </tr>\n",
       "    <tr>\n",
       "      <th>date</th>\n",
       "      <th></th>\n",
       "    </tr>\n",
       "  </thead>\n",
       "  <tbody>\n",
       "    <tr>\n",
       "      <th>1997-01-01</th>\n",
       "      <td>12.17</td>\n",
       "    </tr>\n",
       "    <tr>\n",
       "      <th>1997-02-01</th>\n",
       "      <td>12.10</td>\n",
       "    </tr>\n",
       "    <tr>\n",
       "      <th>1997-03-01</th>\n",
       "      <td>12.32</td>\n",
       "    </tr>\n",
       "    <tr>\n",
       "      <th>1997-04-01</th>\n",
       "      <td>12.40</td>\n",
       "    </tr>\n",
       "    <tr>\n",
       "      <th>1997-05-01</th>\n",
       "      <td>12.40</td>\n",
       "    </tr>\n",
       "    <tr>\n",
       "      <th>...</th>\n",
       "      <td>...</td>\n",
       "    </tr>\n",
       "    <tr>\n",
       "      <th>2023-07-01</th>\n",
       "      <td>3.64</td>\n",
       "    </tr>\n",
       "    <tr>\n",
       "      <th>2023-08-01</th>\n",
       "      <td>3.73</td>\n",
       "    </tr>\n",
       "    <tr>\n",
       "      <th>2023-09-01</th>\n",
       "      <td>3.84</td>\n",
       "    </tr>\n",
       "    <tr>\n",
       "      <th>2023-10-01</th>\n",
       "      <td>4.03</td>\n",
       "    </tr>\n",
       "    <tr>\n",
       "      <th>2023-11-01</th>\n",
       "      <td>3.77</td>\n",
       "    </tr>\n",
       "  </tbody>\n",
       "</table>\n",
       "<p>323 rows × 1 columns</p>\n",
       "</div>"
      ],
      "text/plain": [
       "            국고채 3년\n",
       "date              \n",
       "1997-01-01   12.17\n",
       "1997-02-01   12.10\n",
       "1997-03-01   12.32\n",
       "1997-04-01   12.40\n",
       "1997-05-01   12.40\n",
       "...            ...\n",
       "2023-07-01    3.64\n",
       "2023-08-01    3.73\n",
       "2023-09-01    3.84\n",
       "2023-10-01    4.03\n",
       "2023-11-01    3.77\n",
       "\n",
       "[323 rows x 1 columns]"
      ]
     },
     "execution_count": 5,
     "metadata": {},
     "output_type": "execute_result"
    }
   ],
   "source": [
    "interest"
   ]
  },
  {
   "cell_type": "code",
   "execution_count": 6,
   "id": "6ad68e87",
   "metadata": {
    "scrolled": true
   },
   "outputs": [
    {
     "name": "stdout",
     "output_type": "stream",
     "text": [
      "[*********************100%***********************]  1 of 1 completed\n",
      "\n",
      "1 Failed download:\n",
      "- DGS10: No data found, symbol may be delisted\n"
     ]
    }
   ],
   "source": [
    "us_bond = yf.download('DGS10', start='1999-01-01', end='2023-12-31')"
   ]
  },
  {
   "cell_type": "code",
   "execution_count": null,
   "id": "f7ba6c2b",
   "metadata": {},
   "outputs": [],
   "source": []
  },
  {
   "cell_type": "code",
   "execution_count": 7,
   "id": "3a2e8218",
   "metadata": {},
   "outputs": [
    {
     "name": "stdout",
     "output_type": "stream",
     "text": [
      "[*********************100%***********************]  1 of 1 completed\n"
     ]
    }
   ],
   "source": [
    "kospi = yf.download('^KS200', start='1999-01-01', end='2023-12-31').resample('M').last()\n",
    "kospi.dropna(inplace=True)"
   ]
  },
  {
   "cell_type": "code",
   "execution_count": 8,
   "id": "8f8ed7c9",
   "metadata": {},
   "outputs": [
    {
     "data": {
      "text/html": [
       "<div>\n",
       "<style scoped>\n",
       "    .dataframe tbody tr th:only-of-type {\n",
       "        vertical-align: middle;\n",
       "    }\n",
       "\n",
       "    .dataframe tbody tr th {\n",
       "        vertical-align: top;\n",
       "    }\n",
       "\n",
       "    .dataframe thead th {\n",
       "        text-align: right;\n",
       "    }\n",
       "</style>\n",
       "<table border=\"1\" class=\"dataframe\">\n",
       "  <thead>\n",
       "    <tr style=\"text-align: right;\">\n",
       "      <th></th>\n",
       "      <th>Open</th>\n",
       "      <th>High</th>\n",
       "      <th>Low</th>\n",
       "      <th>Close</th>\n",
       "      <th>Adj Close</th>\n",
       "      <th>Volume</th>\n",
       "    </tr>\n",
       "    <tr>\n",
       "      <th>Date</th>\n",
       "      <th></th>\n",
       "      <th></th>\n",
       "      <th></th>\n",
       "      <th></th>\n",
       "      <th></th>\n",
       "      <th></th>\n",
       "    </tr>\n",
       "  </thead>\n",
       "  <tbody>\n",
       "    <tr>\n",
       "      <th>1999-01-31</th>\n",
       "      <td>65.720001</td>\n",
       "      <td>66.300003</td>\n",
       "      <td>64.809998</td>\n",
       "      <td>65.720001</td>\n",
       "      <td>65.720001</td>\n",
       "      <td>99700</td>\n",
       "    </tr>\n",
       "    <tr>\n",
       "      <th>1999-02-28</th>\n",
       "      <td>58.450001</td>\n",
       "      <td>60.279999</td>\n",
       "      <td>58.450001</td>\n",
       "      <td>60.279999</td>\n",
       "      <td>60.279999</td>\n",
       "      <td>61100</td>\n",
       "    </tr>\n",
       "    <tr>\n",
       "      <th>1999-03-31</th>\n",
       "      <td>71.820000</td>\n",
       "      <td>72.320000</td>\n",
       "      <td>71.330002</td>\n",
       "      <td>71.839996</td>\n",
       "      <td>71.839996</td>\n",
       "      <td>102700</td>\n",
       "    </tr>\n",
       "    <tr>\n",
       "      <th>1999-04-30</th>\n",
       "      <td>87.720001</td>\n",
       "      <td>88.290001</td>\n",
       "      <td>85.500000</td>\n",
       "      <td>87.150002</td>\n",
       "      <td>87.150002</td>\n",
       "      <td>191300</td>\n",
       "    </tr>\n",
       "    <tr>\n",
       "      <th>1999-05-31</th>\n",
       "      <td>85.449997</td>\n",
       "      <td>87.199997</td>\n",
       "      <td>85.260002</td>\n",
       "      <td>85.680000</td>\n",
       "      <td>85.680000</td>\n",
       "      <td>111600</td>\n",
       "    </tr>\n",
       "    <tr>\n",
       "      <th>...</th>\n",
       "      <td>...</td>\n",
       "      <td>...</td>\n",
       "      <td>...</td>\n",
       "      <td>...</td>\n",
       "      <td>...</td>\n",
       "      <td>...</td>\n",
       "    </tr>\n",
       "    <tr>\n",
       "      <th>2023-08-31</th>\n",
       "      <td>335.380005</td>\n",
       "      <td>336.059998</td>\n",
       "      <td>333.390015</td>\n",
       "      <td>334.750000</td>\n",
       "      <td>334.750000</td>\n",
       "      <td>146200</td>\n",
       "    </tr>\n",
       "    <tr>\n",
       "      <th>2023-09-30</th>\n",
       "      <td>325.049988</td>\n",
       "      <td>327.500000</td>\n",
       "      <td>324.730011</td>\n",
       "      <td>326.709991</td>\n",
       "      <td>326.709991</td>\n",
       "      <td>81600</td>\n",
       "    </tr>\n",
       "    <tr>\n",
       "      <th>2023-10-31</th>\n",
       "      <td>310.489990</td>\n",
       "      <td>311.579987</td>\n",
       "      <td>305.140015</td>\n",
       "      <td>305.559998</td>\n",
       "      <td>305.559998</td>\n",
       "      <td>121700</td>\n",
       "    </tr>\n",
       "    <tr>\n",
       "      <th>2023-11-30</th>\n",
       "      <td>335.609985</td>\n",
       "      <td>338.429993</td>\n",
       "      <td>334.899994</td>\n",
       "      <td>338.429993</td>\n",
       "      <td>338.429993</td>\n",
       "      <td>169500</td>\n",
       "    </tr>\n",
       "    <tr>\n",
       "      <th>2023-12-31</th>\n",
       "      <td>352.750000</td>\n",
       "      <td>357.989990</td>\n",
       "      <td>352.010010</td>\n",
       "      <td>357.989990</td>\n",
       "      <td>357.989990</td>\n",
       "      <td>108300</td>\n",
       "    </tr>\n",
       "  </tbody>\n",
       "</table>\n",
       "<p>300 rows × 6 columns</p>\n",
       "</div>"
      ],
      "text/plain": [
       "                  Open        High         Low       Close   Adj Close  Volume\n",
       "Date                                                                          \n",
       "1999-01-31   65.720001   66.300003   64.809998   65.720001   65.720001   99700\n",
       "1999-02-28   58.450001   60.279999   58.450001   60.279999   60.279999   61100\n",
       "1999-03-31   71.820000   72.320000   71.330002   71.839996   71.839996  102700\n",
       "1999-04-30   87.720001   88.290001   85.500000   87.150002   87.150002  191300\n",
       "1999-05-31   85.449997   87.199997   85.260002   85.680000   85.680000  111600\n",
       "...                ...         ...         ...         ...         ...     ...\n",
       "2023-08-31  335.380005  336.059998  333.390015  334.750000  334.750000  146200\n",
       "2023-09-30  325.049988  327.500000  324.730011  326.709991  326.709991   81600\n",
       "2023-10-31  310.489990  311.579987  305.140015  305.559998  305.559998  121700\n",
       "2023-11-30  335.609985  338.429993  334.899994  338.429993  338.429993  169500\n",
       "2023-12-31  352.750000  357.989990  352.010010  357.989990  357.989990  108300\n",
       "\n",
       "[300 rows x 6 columns]"
      ]
     },
     "execution_count": 8,
     "metadata": {},
     "output_type": "execute_result"
    }
   ],
   "source": [
    "kospi"
   ]
  },
  {
   "cell_type": "code",
   "execution_count": 9,
   "id": "5a32d8be",
   "metadata": {},
   "outputs": [],
   "source": [
    "import numpy as np\n",
    "\n",
    "# 변수설정\n",
    "revenue_first = 1234\n",
    "revenue_end = 7491\n",
    "n = 2022 - 2020\n",
    "\n",
    "# CAGR 구하기\n",
    "CAGR = np.power(revenue_end/revenue_first , 1/n) - 1"
   ]
  },
  {
   "cell_type": "code",
   "execution_count": 10,
   "id": "3b4ed1aa",
   "metadata": {},
   "outputs": [],
   "source": [
    "yearly_prices = kospi.groupby(kospi.index.year).agg({'Open': 'first', 'Close': 'last'})"
   ]
  },
  {
   "cell_type": "code",
   "execution_count": 11,
   "id": "ea7188e5",
   "metadata": {},
   "outputs": [],
   "source": [
    "yearly_prices['1y_pct'] = ((yearly_prices['Close'] - yearly_prices['Open'])/yearly_prices['Open']) * 100"
   ]
  },
  {
   "cell_type": "code",
   "execution_count": 13,
   "id": "3a609a7e",
   "metadata": {},
   "outputs": [],
   "source": [
    "interest.index = interest.index.year"
   ]
  },
  {
   "cell_type": "code",
   "execution_count": 15,
   "id": "44c95bdb",
   "metadata": {},
   "outputs": [],
   "source": [
    "kospi['pct'] = kospi['Adj Close'].pct_change()"
   ]
  },
  {
   "cell_type": "code",
   "execution_count": 28,
   "id": "4255f0e9",
   "metadata": {},
   "outputs": [
    {
     "data": {
      "image/png": "[encoded data removed]",
      "text/plain": [
       "<Figure size 1000x600 with 2 Axes>"
      ]
     },
     "metadata": {},
     "output_type": "display_data"
    }
   ],
   "source": [
    "import matplotlib.pyplot as plt\n",
    "\n",
    "fig, ax1 = plt.subplots(figsize=(10, 6))\n",
    "\n",
    "# df1의 열을 첫 번째 축에 그래프로\n",
    "ax1.plot(interest.index, interest['국고채 3년'], label='국고채 3년', color='b')\n",
    "ax1.set_xlabel('Date')\n",
    "ax1.set_ylabel('국고채 3년', color='b')\n",
    "ax1.tick_params(axis='y', labelcolor='b')\n",
    "\n",
    "# 두 번째 축 생성\n",
    "ax2 = ax1.twinx()\n",
    "\n",
    "# df2의 열을 두 번째 축에 그래프로\n",
    "ax2.plot(kospi.index, kospi['Adj Close'], label='1년 수익률', color='r')\n",
    "ax2.set_ylabel('1년 수익률', color='r')\n",
    "ax2.tick_params(axis='y', labelcolor='r')\n",
    "\n",
    "# 2010년 영역 표시\n",
    "start_date = '2009-12-31'\n",
    "end_date = '2022-12-31'\n",
    "\n",
    "# ax1.axvspan(start_date, end_date, color='gray', alpha=0.3)  # 첫 번째 축에 영역 표시\n",
    "ax2.axvspan(start_date, end_date, color='gray', alpha=0.3)  # 두 번째 축에도 동일한 영역 표시\n",
    "\n",
    "plt.title('Comparison of Columns with 2010 Highlighted')\n",
    "plt.show()\n"
   ]
  },
  {
   "cell_type": "markdown",
   "id": "28db7f6c",
   "metadata": {},
   "source": [
    "+ 2010년 이후 코스피200을 비교 (2000년도부터 시작하면 구성 종목에서 어려움이 있음)"
   ]
  },
  {
   "cell_type": "code",
   "execution_count": null,
   "id": "366a5b08",
   "metadata": {},
   "outputs": [],
   "source": []
  }
 ],
 "metadata": {
  "kernelspec": {
   "display_name": "Python 3 (ipykernel)",
   "language": "python",
   "name": "python3"
  },
  "language_info": {
   "codemirror_mode": {
    "name": "ipython",
    "version": 3
   },
   "file_extension": ".py",
   "mimetype": "text/x-python",
   "name": "python",
   "nbconvert_exporter": "python",
   "pygments_lexer": "ipython3",
   "version": "3.8.18"
  }
 },
 "nbformat": 4,
 "nbformat_minor": 5
}
