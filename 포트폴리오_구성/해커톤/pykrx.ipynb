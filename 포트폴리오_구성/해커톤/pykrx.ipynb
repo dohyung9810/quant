{
 "cells": [
  {
   "cell_type": "code",
   "execution_count": 1,
   "id": "0058d268",
   "metadata": {},
   "outputs": [],
   "source": [
    "from pykrx import stock\n",
    "from pykrx import bond"
   ]
  },
  {
   "cell_type": "code",
   "execution_count": 6,
   "id": "733c6bd6",
   "metadata": {},
   "outputs": [
    {
     "name": "stdout",
     "output_type": "stream",
     "text": [
      "              BPS  PER   PBR  EPS   DIV  DPS\n",
      "날짜                                          \n",
      "2021-01-07  60603  0.0  6.64    0  0.03  127\n",
      "2021-01-08  60603  0.0  7.16    0  0.03  127\n"
     ]
    }
   ],
   "source": [
    "df = stock.get_market_fundamental(\"20000104\", \"20210108\", \"035720\")\n"
   ]
  },
  {
   "cell_type": "code",
   "execution_count": 8,
   "id": "4168e6e8",
   "metadata": {},
   "outputs": [
    {
     "name": "stdout",
     "output_type": "stream",
     "text": [
      "            BPS  PER  PBR  EPS  DIV  DPS\n",
      "날짜                                      \n",
      "2000-01-04    0  0.0  0.0    0  0.0    0\n"
     ]
    }
   ],
   "source": [
    "print(df.head(1))"
   ]
  },
  {
   "cell_type": "code",
   "execution_count": null,
   "id": "dacd8a23",
   "metadata": {},
   "outputs": [],
   "source": []
  }
 ],
 "metadata": {
  "kernelspec": {
   "display_name": "Python 3 (ipykernel)",
   "language": "python",
   "name": "python3"
  },
  "language_info": {
   "codemirror_mode": {
    "name": "ipython",
    "version": 3
   },
   "file_extension": ".py",
   "mimetype": "text/x-python",
   "name": "python",
   "nbconvert_exporter": "python",
   "pygments_lexer": "ipython3",
   "version": "3.8.18"
  }
 },
 "nbformat": 4,
 "nbformat_minor": 5
}
