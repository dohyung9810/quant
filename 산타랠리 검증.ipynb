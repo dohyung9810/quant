{
 "cells": [
  {
   "cell_type": "code",
   "execution_count": 2,
   "id": "c2a17221",
   "metadata": {},
   "outputs": [],
   "source": [
    "# Classification\n",
    "import pandas as pd\n",
    "import numpy as np\n",
    "import FinanceDataReader as fdr\n",
    "import yfinance as yf\n",
    "import matplotlib.pyplot as plt\n",
    "import seaborn as sns\n",
    "import matplotlib\n",
    "import pandas_ta\n",
    "import talib\n",
    "import datetime\n",
    "from matplotlib import rc\n",
    "%matplotlib inline\n",
    "\n",
    "import warnings\n",
    "warnings.filterwarnings('ignore')\n",
    "from sklearn.model_selection import KFold, cross_val_score, train_test_split, StratifiedKFold\n",
    "from sklearn.linear_model import LogisticRegression\n",
    "from sklearn.neighbors import KNeighborsClassifier\n",
    "from sklearn.svm import SVC\n",
    "from sklearn.tree import DecisionTreeClassifier, plot_tree\n",
    "from sklearn.ensemble import RandomForestClassifier, ExtraTreesClassifier, VotingClassifier, StackingClassifier, AdaBoostClassifier, GradientBoostingClassifier\n",
    "from sklearn.dummy import DummyClassifier\n",
    "from sklearn.impute import SimpleImputer\n",
    "from sklearn.metrics import accuracy_score, precision_score, recall_score, f1_score, roc_auc_score, confusion_matrix, roc_curve\n",
    "from sklearn.pipeline import make_pipeline, Pipeline\n",
    "from sklearn.preprocessing import StandardScaler, MinMaxScaler, RobustScaler, LabelEncoder, OrdinalEncoder, OneHotEncoder\n",
    "from sklearn.compose import ColumnTransformer\n",
    "from sklearn.cluster import KMeans, AgglomerativeClustering\n",
    "from sklearn.ensemble import RandomForestClassifier\n",
    "# from lightgbm import LGBMClassifier\n",
    "from xgboost import XGBClassifier\n",
    "from catboost import CatBoostClassifier\n",
    "import optuna\n",
    "from sklearn.ensemble import HistGradientBoostingClassifier\n",
    "from pykrx import stock\n",
    "from scipy import stats"
   ]
  },
  {
   "cell_type": "markdown",
   "id": "5852e892",
   "metadata": {},
   "source": [
    "### Kospi"
   ]
  },
  {
   "cell_type": "code",
   "execution_count": 3,
   "id": "8c8d0950",
   "metadata": {
    "scrolled": true
   },
   "outputs": [
    {
     "name": "stdout",
     "output_type": "stream",
     "text": [
      "[*********************100%***********************]  1 of 1 completed\n",
      "[*********************100%***********************]  1 of 1 completed\n",
      "[*********************100%***********************]  1 of 1 completed\n"
     ]
    }
   ],
   "source": [
    "ks = yf.download('^KS11', start='2000-01-01', end = '2023-02-01')\n",
    "kq = yf.download('^KQ11', start='2000-01-01', end = '2023-02-01')\n",
    "ks200 = yf.download('^KS200', start='2000-01-01', end = '2023-02-01')"
   ]
  },
  {
   "cell_type": "code",
   "execution_count": 4,
   "id": "bafa0b53",
   "metadata": {},
   "outputs": [],
   "source": [
    "# 각 연도별로 데이터 가져오기\n",
    "def sep_date(data):\n",
    "    santa = []\n",
    "    for year in range(2000, 2023):\n",
    "        year_data = data[data.index.year == year]\n",
    "        year_data_next = data[data.index.year == year + 1]\n",
    "\n",
    "        # 연말 5일 전 계산\n",
    "        end_of_year = year_data.tail(5).index[0]\n",
    "\n",
    "        # 연초 2일 계산\n",
    "        start_of_year = year_data_next.head(2).index[-1]\n",
    "\n",
    "        # 연속된 데이터 추출\n",
    "        continuous_data = data.loc[end_of_year:start_of_year]\n",
    "        rest_data = data[:end_of_year]\n",
    "        # 결과 출력 또는 원하는 작업 수행\n",
    "        santa.append(continuous_data)\n",
    "    return santa\n"
   ]
  },
  {
   "cell_type": "code",
   "execution_count": 6,
   "id": "c9990df3",
   "metadata": {},
   "outputs": [],
   "source": [
    "def make_1d_pct(df):\n",
    "    df['1d_pct'] = ((df['Close'] - df['Open']) / df['Open']) * 100\n",
    "    return df\n",
    "    "
   ]
  },
  {
   "cell_type": "code",
   "execution_count": 7,
   "id": "622739ce",
   "metadata": {},
   "outputs": [],
   "source": [
    "def mannwhitneyu_test(df):\n",
    "    santa_period = sep_date(df)\n",
    "    santa_period = pd.concat(santa_period)\n",
    "    rest_period = df[~df.index.isin(santa_period.index)]\n",
    "    santa_period = make_1d_pct(santa_period)\n",
    "    rest_period = make_1d_pct(rest_period)\n",
    "    print(santa_period[['1d_pct', 'Volume']].describe())\n",
    "    print(rest_period[['1d_pct', 'Volume']].describe())\n",
    "    U_statistic, p_value = stats.mannwhitneyu(santa_period['1d_pct'], rest_period['1d_pct'])\n",
    "    print(p_value)"
   ]
  },
  {
   "cell_type": "code",
   "execution_count": 15,
   "id": "eb8222a8",
   "metadata": {},
   "outputs": [
    {
     "name": "stdout",
     "output_type": "stream",
     "text": [
      "           1d_pct        Volume\n",
      "count  161.000000  1.610000e+02\n",
      "mean    -0.001272  4.110348e+05\n",
      "std      1.105579  2.109544e+05\n",
      "min     -3.760335  1.477000e+05\n",
      "25%     -0.594009  2.832000e+05\n",
      "50%      0.067491  3.590000e+05\n",
      "75%      0.501923  4.580000e+05\n",
      "max      3.861033  1.519900e+06\n",
      "            1d_pct        Volume\n",
      "count  5531.000000  5.531000e+03\n",
      "mean     -0.038983  4.759988e+05\n",
      "std       1.148376  2.641589e+05\n",
      "min     -10.729565  1.363000e+05\n",
      "25%      -0.558011  3.153000e+05\n",
      "50%      -0.023817  4.024000e+05\n",
      "75%       0.521659  5.430000e+05\n",
      "max       8.977477  3.455500e+06\n",
      "0.8412440936361698\n"
     ]
    }
   ],
   "source": [
    "mannwhitneyu_test(ks)"
   ]
  },
  {
   "cell_type": "code",
   "execution_count": null,
   "id": "8eaa0780",
   "metadata": {},
   "outputs": [],
   "source": []
  },
  {
   "cell_type": "code",
   "execution_count": null,
   "id": "d67aca3c",
   "metadata": {},
   "outputs": [],
   "source": []
  },
  {
   "cell_type": "markdown",
   "id": "68dd3a89",
   "metadata": {},
   "source": [
    "### Kospi 200 종목 불러오기"
   ]
  },
  {
   "cell_type": "code",
   "execution_count": 11,
   "id": "830ec5fd",
   "metadata": {},
   "outputs": [],
   "source": [
    "ks_stock_list = fdr.StockListing('KOSPI')\n",
    "ks_code_list = ks_stock_list['Code'].apply(lambda x : str(x) + '.KS').tolist()"
   ]
  },
  {
   "cell_type": "code",
   "execution_count": 12,
   "id": "661ddc13",
   "metadata": {},
   "outputs": [],
   "source": [
    "ks200_html = pd.read_html('https://ko.wikipedia.org/wiki/%EC%BD%94%EC%8A%A4%ED%94%BC_200')[-1]\n",
    "ks200_html.columns = ['Sector', 'Name']\n",
    "# print(ks200_html.columns)\n",
    "ks200 = ks200_html.iloc[1:,]\n",
    "ks200.columns = ['sector', 'stock']\n",
    "ks200_stock_name = []\n",
    "for i in range(1, 12):\n",
    "    data = ks200['stock'][i].split()\n",
    "    sector_name = ks200_html['Sector'][i]\n",
    "    for j in data:\n",
    "        dicts = {'Name' : j, 'sector' : sector_name}\n",
    "        ks200_stock_name.append(dicts)\n",
    "ks200 = pd.DataFrame(ks200_stock_name)"
   ]
  },
  {
   "cell_type": "code",
   "execution_count": 13,
   "id": "b2b7910c",
   "metadata": {},
   "outputs": [],
   "source": [
    "# 시장별 데이터 가져오기 : 'KOSPI', 'KODAQ', 'KONEX'\n",
    "stocks_kospi = fdr.StockListing('KOSPI')[['Code', 'Name']]\n",
    "# 앞 5개 뒷부분 5개 보여준다.\n",
    "ks200 = pd.merge(ks200, stocks_kospi, on='Name')"
   ]
  },
  {
   "cell_type": "code",
   "execution_count": 14,
   "id": "d1028644",
   "metadata": {},
   "outputs": [
    {
     "data": {
      "text/html": [
       "<div>\n",
       "<style scoped>\n",
       "    .dataframe tbody tr th:only-of-type {\n",
       "        vertical-align: middle;\n",
       "    }\n",
       "\n",
       "    .dataframe tbody tr th {\n",
       "        vertical-align: top;\n",
       "    }\n",
       "\n",
       "    .dataframe thead th {\n",
       "        text-align: right;\n",
       "    }\n",
       "</style>\n",
       "<table border=\"1\" class=\"dataframe\">\n",
       "  <thead>\n",
       "    <tr style=\"text-align: right;\">\n",
       "      <th></th>\n",
       "      <th>Name</th>\n",
       "      <th>sector</th>\n",
       "      <th>Code</th>\n",
       "    </tr>\n",
       "  </thead>\n",
       "  <tbody>\n",
       "    <tr>\n",
       "      <th>0</th>\n",
       "      <td>DL이앤씨</td>\n",
       "      <td>건설</td>\n",
       "      <td>375500</td>\n",
       "    </tr>\n",
       "    <tr>\n",
       "      <th>1</th>\n",
       "      <td>GS건설</td>\n",
       "      <td>건설</td>\n",
       "      <td>006360</td>\n",
       "    </tr>\n",
       "    <tr>\n",
       "      <th>2</th>\n",
       "      <td>대우건설</td>\n",
       "      <td>건설</td>\n",
       "      <td>047040</td>\n",
       "    </tr>\n",
       "    <tr>\n",
       "      <th>3</th>\n",
       "      <td>삼성물산</td>\n",
       "      <td>건설</td>\n",
       "      <td>028260</td>\n",
       "    </tr>\n",
       "    <tr>\n",
       "      <th>4</th>\n",
       "      <td>삼성엔지니어링</td>\n",
       "      <td>건설</td>\n",
       "      <td>028050</td>\n",
       "    </tr>\n",
       "    <tr>\n",
       "      <th>...</th>\n",
       "      <td>...</td>\n",
       "      <td>...</td>\n",
       "      <td>...</td>\n",
       "    </tr>\n",
       "    <tr>\n",
       "      <th>194</th>\n",
       "      <td>유한양행</td>\n",
       "      <td>헬스케어</td>\n",
       "      <td>000100</td>\n",
       "    </tr>\n",
       "    <tr>\n",
       "      <th>195</th>\n",
       "      <td>종근당</td>\n",
       "      <td>헬스케어</td>\n",
       "      <td>185750</td>\n",
       "    </tr>\n",
       "    <tr>\n",
       "      <th>196</th>\n",
       "      <td>한미사이언스</td>\n",
       "      <td>헬스케어</td>\n",
       "      <td>008930</td>\n",
       "    </tr>\n",
       "    <tr>\n",
       "      <th>197</th>\n",
       "      <td>한미약품</td>\n",
       "      <td>헬스케어</td>\n",
       "      <td>128940</td>\n",
       "    </tr>\n",
       "    <tr>\n",
       "      <th>198</th>\n",
       "      <td>한올바이오파마</td>\n",
       "      <td>헬스케어</td>\n",
       "      <td>009420</td>\n",
       "    </tr>\n",
       "  </tbody>\n",
       "</table>\n",
       "<p>199 rows × 3 columns</p>\n",
       "</div>"
      ],
      "text/plain": [
       "        Name sector    Code\n",
       "0      DL이앤씨     건설  375500\n",
       "1       GS건설     건설  006360\n",
       "2       대우건설     건설  047040\n",
       "3       삼성물산     건설  028260\n",
       "4    삼성엔지니어링     건설  028050\n",
       "..       ...    ...     ...\n",
       "194     유한양행   헬스케어  000100\n",
       "195      종근당   헬스케어  185750\n",
       "196   한미사이언스   헬스케어  008930\n",
       "197     한미약품   헬스케어  128940\n",
       "198  한올바이오파마   헬스케어  009420\n",
       "\n",
       "[199 rows x 3 columns]"
      ]
     },
     "execution_count": 14,
     "metadata": {},
     "output_type": "execute_result"
    }
   ],
   "source": [
    "ks200"
   ]
  },
  {
   "cell_type": "code",
   "execution_count": 12,
   "id": "9b7157c3",
   "metadata": {},
   "outputs": [],
   "source": [
    "ks200['Code'] = ks200['Code'].apply(lambda x : str(x) + '.KS')"
   ]
  },
  {
   "cell_type": "code",
   "execution_count": 20,
   "id": "38b4f37e",
   "metadata": {
    "scrolled": true
   },
   "outputs": [],
   "source": [
    "ks200['Sector'] = ks"
   ]
  },
  {
   "cell_type": "code",
   "execution_count": 21,
   "id": "ad4a999c",
   "metadata": {},
   "outputs": [
    {
     "data": {
      "text/html": [
       "<div>\n",
       "<style scoped>\n",
       "    .dataframe tbody tr th:only-of-type {\n",
       "        vertical-align: middle;\n",
       "    }\n",
       "\n",
       "    .dataframe tbody tr th {\n",
       "        vertical-align: top;\n",
       "    }\n",
       "\n",
       "    .dataframe thead th {\n",
       "        text-align: right;\n",
       "    }\n",
       "</style>\n",
       "<table border=\"1\" class=\"dataframe\">\n",
       "  <thead>\n",
       "    <tr style=\"text-align: right;\">\n",
       "      <th></th>\n",
       "      <th>Name</th>\n",
       "      <th>Code</th>\n",
       "      <th>Sector</th>\n",
       "    </tr>\n",
       "  </thead>\n",
       "  <tbody>\n",
       "    <tr>\n",
       "      <th>0</th>\n",
       "      <td>DL이앤씨</td>\n",
       "      <td>375500.KS</td>\n",
       "      <td>False</td>\n",
       "    </tr>\n",
       "    <tr>\n",
       "      <th>1</th>\n",
       "      <td>GS건설</td>\n",
       "      <td>006360.KS</td>\n",
       "      <td>False</td>\n",
       "    </tr>\n",
       "    <tr>\n",
       "      <th>2</th>\n",
       "      <td>대우건설</td>\n",
       "      <td>047040.KS</td>\n",
       "      <td>False</td>\n",
       "    </tr>\n",
       "    <tr>\n",
       "      <th>3</th>\n",
       "      <td>삼성물산</td>\n",
       "      <td>028260.KS</td>\n",
       "      <td>False</td>\n",
       "    </tr>\n",
       "    <tr>\n",
       "      <th>4</th>\n",
       "      <td>삼성엔지니어링</td>\n",
       "      <td>028050.KS</td>\n",
       "      <td>False</td>\n",
       "    </tr>\n",
       "    <tr>\n",
       "      <th>...</th>\n",
       "      <td>...</td>\n",
       "      <td>...</td>\n",
       "      <td>...</td>\n",
       "    </tr>\n",
       "    <tr>\n",
       "      <th>194</th>\n",
       "      <td>유한양행</td>\n",
       "      <td>000100.KS</td>\n",
       "      <td>False</td>\n",
       "    </tr>\n",
       "    <tr>\n",
       "      <th>195</th>\n",
       "      <td>종근당</td>\n",
       "      <td>185750.KS</td>\n",
       "      <td>False</td>\n",
       "    </tr>\n",
       "    <tr>\n",
       "      <th>196</th>\n",
       "      <td>한미사이언스</td>\n",
       "      <td>008930.KS</td>\n",
       "      <td>False</td>\n",
       "    </tr>\n",
       "    <tr>\n",
       "      <th>197</th>\n",
       "      <td>한미약품</td>\n",
       "      <td>128940.KS</td>\n",
       "      <td>False</td>\n",
       "    </tr>\n",
       "    <tr>\n",
       "      <th>198</th>\n",
       "      <td>한올바이오파마</td>\n",
       "      <td>009420.KS</td>\n",
       "      <td>False</td>\n",
       "    </tr>\n",
       "  </tbody>\n",
       "</table>\n",
       "<p>199 rows × 3 columns</p>\n",
       "</div>"
      ],
      "text/plain": [
       "        Name       Code  Sector\n",
       "0      DL이앤씨  375500.KS   False\n",
       "1       GS건설  006360.KS   False\n",
       "2       대우건설  047040.KS   False\n",
       "3       삼성물산  028260.KS   False\n",
       "4    삼성엔지니어링  028050.KS   False\n",
       "..       ...        ...     ...\n",
       "194     유한양행  000100.KS   False\n",
       "195      종근당  185750.KS   False\n",
       "196   한미사이언스  008930.KS   False\n",
       "197     한미약품  128940.KS   False\n",
       "198  한올바이오파마  009420.KS   False\n",
       "\n",
       "[199 rows x 3 columns]"
      ]
     },
     "execution_count": 21,
     "metadata": {},
     "output_type": "execute_result"
    }
   ],
   "source": []
  },
  {
   "cell_type": "code",
   "execution_count": null,
   "id": "f64064a6",
   "metadata": {},
   "outputs": [],
   "source": []
  }
 ],
 "metadata": {
  "kernelspec": {
   "display_name": "Python 3 (ipykernel)",
   "language": "python",
   "name": "python3"
  },
  "language_info": {
   "codemirror_mode": {
    "name": "ipython",
    "version": 3
   },
   "file_extension": ".py",
   "mimetype": "text/x-python",
   "name": "python",
   "nbconvert_exporter": "python",
   "pygments_lexer": "ipython3",
   "version": "3.8.18"
  }
 },
 "nbformat": 4,
 "nbformat_minor": 5
}
