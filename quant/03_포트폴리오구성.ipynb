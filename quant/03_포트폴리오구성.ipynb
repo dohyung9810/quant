{
 "cells": [
  {
   "cell_type": "markdown",
   "metadata": {},
   "source": [
    "### 포트폴리오 구성\n",
    "\n",
    "- PEG 낮은 순\n",
    "- 연 최대 20 종목"
   ]
  },
  {
   "cell_type": "code",
   "execution_count": null,
   "metadata": {},
   "outputs": [],
   "source": [
    "data_range = a.year.unique().tolist()\n",
    "peg_list = []\n",
    "for i in data_range:\n",
    "    dfs = a[a['year'] == i]\n",
    "    ad = dfs[dfs['PEG'] <= 0.75]\n",
    "    # print(ad)\n",
    "    print(len(ad))\n",
    "    # peg_list.append(ad)"
   ]
  },
  {
   "cell_type": "code",
   "execution_count": null,
   "metadata": {},
   "outputs": [],
   "source": [
    "port = data_value_ncav[flag2]\n",
    "port_date_range = port['year'].sort_values().unique().tolist()\n",
    "for i in port_date_range:\n",
    "    port_filter = port[port['year'] == i]\n",
    "    port_filter = port_filter.sort_values('NCAV/시총',ascending=False).head(20)\n",
    "    # print(port_filter)\n",
    "    cap_sum = port_filter['시가총액(백만원)'].sum()\n",
    "    port_filter['weight'] = port_filter['시가총액(백만원)']/ cap_sum\n",
    "    print(port_filter)"
   ]
  }
 ],
 "metadata": {
  "language_info": {
   "name": "python"
  }
 },
 "nbformat": 4,
 "nbformat_minor": 2
}
