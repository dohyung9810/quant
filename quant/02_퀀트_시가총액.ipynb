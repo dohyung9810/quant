{
 "cells": [
  {
   "cell_type": "code",
   "execution_count": 20,
   "metadata": {},
   "outputs": [],
   "source": [
    "from pykrx import stock\n",
    "from pykrx import bond\n",
    "import yfinance as yf\n",
    "import pandas as pd"
   ]
  },
  {
   "cell_type": "code",
   "execution_count": 5,
   "metadata": {},
   "outputs": [
    {
     "name": "stderr",
     "output_type": "stream",
     "text": [
      "[*********************100%%**********************]  1 of 1 completed\n"
     ]
    },
    {
     "data": {
      "text/plain": [
       "[Timestamp('2000-12-18 00:00:00'),\n",
       " Timestamp('2001-12-20 00:00:00'),\n",
       " Timestamp('2002-12-20 00:00:00'),\n",
       " Timestamp('2003-12-22 00:00:00'),\n",
       " Timestamp('2004-12-23 00:00:00'),\n",
       " Timestamp('2005-12-22 00:00:00'),\n",
       " Timestamp('2006-12-20 00:00:00'),\n",
       " Timestamp('2007-12-20 00:00:00'),\n",
       " Timestamp('2008-12-22 00:00:00'),\n",
       " Timestamp('2009-12-22 00:00:00'),\n",
       " Timestamp('2010-12-23 00:00:00'),\n",
       " Timestamp('2011-12-22 00:00:00'),\n",
       " Timestamp('2012-12-20 00:00:00'),\n",
       " Timestamp('2013-12-20 00:00:00'),\n",
       " Timestamp('2014-12-22 00:00:00'),\n",
       " Timestamp('2015-12-22 00:00:00'),\n",
       " Timestamp('2016-12-22 00:00:00'),\n",
       " Timestamp('2017-12-19 00:00:00'),\n",
       " Timestamp('2018-12-20 00:00:00'),\n",
       " Timestamp('2019-12-20 00:00:00'),\n",
       " Timestamp('2020-12-22 00:00:00'),\n",
       " Timestamp('2021-12-23 00:00:00'),\n",
       " Timestamp('2022-12-22 00:00:00'),\n",
       " Timestamp('2023-12-20 00:00:00')]"
      ]
     },
     "execution_count": 5,
     "metadata": {},
     "output_type": "execute_result"
    }
   ],
   "source": [
    "kospi = yf.download('^KS11')\n",
    "kospi['year'] = kospi.index.year\n",
    "dates = []\n",
    "for year in range(2000, 2024):\n",
    "    date = kospi[kospi['year']==year].tail(6).index[0]\n",
    "    dates.append(date)"
   ]
  },
  {
   "cell_type": "code",
   "execution_count": 31,
   "metadata": {},
   "outputs": [],
   "source": [
    "big_cap = []\n",
    "middle_cap = []\n",
    "small_cap = []\n",
    "for y in dates:\n",
    "    df = stock.get_market_cap_by_ticker(date=y, market='KOSPI')\n",
    "    df = df.sort_values('시가총액', ascending=False)\n",
    "    df['year'] = y.year\n",
    "\n",
    "    top_large_cap = df.head(20)[['시가총액', 'year']]\n",
    "    top_large_cap['weight'] = top_large_cap['시가총액'] / top_large_cap['시가총액'].sum()\n",
    "    \n",
    "    top_mid_cap = df.iloc[101:].head(20)[['시가총액', 'year']]\n",
    "    top_mid_cap['weight'] = top_mid_cap['시가총액'] / top_mid_cap['시가총액'].sum()\n",
    "\n",
    "    top_small_cap = df[301:].head(20)[['시가총액', 'year']]\n",
    "    top_small_cap['weight'] = top_small_cap['시가총액'] / top_small_cap['시가총액'].sum()\n",
    "\n",
    "\n",
    "    big_cap.append(top_large_cap)\n",
    "    middle_cap.append(top_mid_cap)\n",
    "    small_cap.append(top_small_cap)"
   ]
  },
  {
   "cell_type": "code",
   "execution_count": 40,
   "metadata": {},
   "outputs": [],
   "source": [
    "big_cap = pd.concat(big_cap)\n",
    "middle_cap = pd.concat(middle_cap)\n",
    "small_cap = pd.concat(small_cap)"
   ]
  },
  {
   "cell_type": "code",
   "execution_count": 44,
   "metadata": {},
   "outputs": [
    {
     "name": "stdout",
     "output_type": "stream",
     "text": [
      "대형주 20\n",
      "중형주 20\n",
      "소형주 20\n",
      "대형주 20\n",
      "중형주 20\n",
      "소형주 20\n",
      "대형주 20\n",
      "중형주 20\n",
      "소형주 20\n",
      "대형주 20\n",
      "중형주 20\n",
      "소형주 20\n",
      "대형주 20\n",
      "중형주 20\n",
      "소형주 20\n",
      "대형주 20\n",
      "중형주 20\n",
      "소형주 20\n",
      "대형주 20\n",
      "중형주 20\n",
      "소형주 20\n",
      "대형주 20\n",
      "중형주 20\n",
      "소형주 20\n",
      "대형주 20\n",
      "중형주 20\n",
      "소형주 20\n",
      "대형주 20\n",
      "중형주 20\n",
      "소형주 20\n",
      "대형주 20\n",
      "중형주 20\n",
      "소형주 20\n",
      "대형주 20\n",
      "중형주 20\n",
      "소형주 20\n",
      "대형주 20\n",
      "중형주 20\n",
      "소형주 20\n",
      "대형주 20\n",
      "중형주 20\n",
      "소형주 20\n",
      "대형주 20\n",
      "중형주 20\n",
      "소형주 20\n",
      "대형주 20\n",
      "중형주 20\n",
      "소형주 20\n",
      "대형주 20\n",
      "중형주 20\n",
      "소형주 20\n",
      "대형주 20\n",
      "중형주 20\n",
      "소형주 20\n",
      "대형주 20\n",
      "중형주 20\n",
      "소형주 20\n",
      "대형주 20\n",
      "중형주 20\n",
      "소형주 20\n",
      "대형주 20\n",
      "중형주 20\n",
      "소형주 20\n",
      "대형주 20\n",
      "중형주 20\n",
      "소형주 20\n",
      "대형주 20\n",
      "중형주 20\n",
      "소형주 20\n",
      "대형주 20\n",
      "중형주 20\n",
      "소형주 20\n"
     ]
    }
   ],
   "source": [
    "for i in range(2000, 2024):\n",
    "\n",
    "    big = big_cap[big_cap['year'] == i]\n",
    "    middle = middle_cap[middle_cap['year'] == i]\n",
    "    small = small_cap[small_cap['year'] == i]\n",
    "\n",
    "    print(f'대형주 {len(big)}')\n",
    "    print(f'중형주 {len(middle)}')\n",
    "    print(f'소형주 {len(small)}')\n",
    "\n",
    "    "
   ]
  },
  {
   "cell_type": "code",
   "execution_count": 45,
   "metadata": {},
   "outputs": [
    {
     "name": "stdout",
     "output_type": "stream",
     "text": [
      "1.0\n",
      "1.0\n",
      "0.9999999999999999\n",
      "1.0\n",
      "0.9999999999999999\n",
      "1.0\n",
      "1.0000000000000002\n",
      "0.9999999999999999\n",
      "1.0\n",
      "1.0\n",
      "0.9999999999999999\n",
      "1.0\n",
      "1.0\n",
      "1.0\n",
      "1.0\n",
      "1.0\n",
      "1.0\n",
      "1.0\n",
      "1.0\n",
      "1.0\n",
      "1.0\n",
      "0.9999999999999999\n",
      "0.9999999999999999\n",
      "1.0\n"
     ]
    }
   ],
   "source": [
    "for i in range(2000, 2024):\n",
    "    a = df[df['year'] == i]['weight'].sum()\n",
    "    print(a)"
   ]
  },
  {
   "cell_type": "code",
   "execution_count": 49,
   "metadata": {},
   "outputs": [],
   "source": [
    "big_cap.to_csv('../datasets/big_cap.csv')\n",
    "middle_cap.to_csv('../datasets/middle_cap.csv')\n",
    "small_cap.to_csv('../datasets/small_cap.csv')\n",
    "\n"
   ]
  },
  {
   "cell_type": "code",
   "execution_count": null,
   "metadata": {},
   "outputs": [],
   "source": []
  }
 ],
 "metadata": {
  "kernelspec": {
   "display_name": "Python 3",
   "language": "python",
   "name": "python3"
  },
  "language_info": {
   "codemirror_mode": {
    "name": "ipython",
    "version": 3
   },
   "file_extension": ".py",
   "mimetype": "text/x-python",
   "name": "python",
   "nbconvert_exporter": "python",
   "pygments_lexer": "ipython3",
   "version": "3.9.10"
  }
 },
 "nbformat": 4,
 "nbformat_minor": 2
}
